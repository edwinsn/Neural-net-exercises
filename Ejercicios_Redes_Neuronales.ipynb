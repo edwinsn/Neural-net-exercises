{
  "nbformat": 4,
  "nbformat_minor": 0,
  "metadata": {
    "colab": {
      "name": "Ejercicios Redes Neuronales.ipynb",
      "provenance": [],
      "collapsed_sections": []
    },
    "kernelspec": {
      "name": "python3",
      "display_name": "Python 3"
    },
    "language_info": {
      "name": "python"
    }
  },
  "cells": [
    {
      "cell_type": "markdown",
      "metadata": {
        "id": "UmzhWjM0YohT"
      },
      "source": [
        "**Ejercicios guia 1**"
      ]
    },
    {
      "cell_type": "code",
      "metadata": {
        "colab": {
          "base_uri": "https://localhost:8080/",
          "height": 317
        },
        "id": "ja_5S6JbYwKt",
        "outputId": "e44487d8-c791-4d09-d6cd-738ffae2c362"
      },
      "source": [
        "#Dentro del conjunto de datos, seleccióne la esquina inferior que contenga \n",
        "#14×14 píxeles en cada una de las imágenes y visualice una de ellas. \n",
        "\n",
        "from keras.datasets import mnist\n",
        "(train_images, train_labels), (test_images, test_labels) = mnist.load_data()\n",
        "\n",
        "my_slice_corner = train_images[:, 14:, 14:]\n",
        "\n",
        "digit = my_slice_corner[3] # train_images[3, 14:, 14:]\n",
        "import matplotlib.pyplot as plt\n",
        "plt.imshow(digit, cmap=plt.cm.binary)\n",
        "plt.show()"
      ],
      "execution_count": null,
      "outputs": [
        {
          "output_type": "stream",
          "text": [
            "Downloading data from https://storage.googleapis.com/tensorflow/tf-keras-datasets/mnist.npz\n",
            "11493376/11490434 [==============================] - 0s 0us/step\n",
            "11501568/11490434 [==============================] - 0s 0us/step\n"
          ],
          "name": "stdout"
        },
        {
          "output_type": "display_data",
          "data": {
            "image/png": "[encoded data removed]",
            "text/plain": [
              "<Figure size 432x288 with 1 Axes>"
            ]
          },
          "metadata": {
            "tags": [],
            "needs_background": "light"
          }
        }
      ]
    },
    {
      "cell_type": "code",
      "metadata": {
        "colab": {
          "base_uri": "https://localhost:8080/"
        },
        "id": "W660wKfhZ9c2",
        "outputId": "c6c07ebb-a57e-40b6-d95f-037597122927"
      },
      "source": [
        "#Escriba un código en Python que devuelva el máximo valor de un vector.\n",
        "\n",
        "def max(x): \n",
        "  \n",
        "    max = x[0] \n",
        "  \n",
        "    for i in range(1, len(x)): \n",
        "        if x[i] > max: \n",
        "            max = x[i] \n",
        "    return max\n",
        "\n",
        "max([0,2,1])\n"
      ],
      "execution_count": null,
      "outputs": [
        {
          "output_type": "execute_result",
          "data": {
            "text/plain": [
              "2"
            ]
          },
          "metadata": {
            "tags": []
          },
          "execution_count": 2
        }
      ]
    },
    {
      "cell_type": "code",
      "metadata": {
        "colab": {
          "base_uri": "https://localhost:8080/"
        },
        "id": "0lScBErYvD2B",
        "outputId": "86c7a5df-4438-47fb-fac1-191b18cf2d62"
      },
      "source": [
        "#Creen una clase Point en coordenadas cartesianas, que se su constructor \n",
        "#inicialice el objeto a un punto con unas coordenadas dadas. Además, la clase debe contener dos métodos\n",
        "\n",
        "class point:\n",
        "\n",
        "    def __init__(self, x, y):\n",
        "\n",
        "        self.x = x\n",
        "        self.y = y\n",
        "        \n",
        "    def translate(self, dx, dy):\n",
        "\n",
        "        self.x += dx\n",
        "        self.y += dy\n",
        "            \n",
        "    def __str__(self):\n",
        "        return(\"Las cordenadas de p son x:{} , y:{}\".format (self.x, self.y))\n",
        "\n",
        "\n",
        "p1 = point(1,1)\n",
        "p1.translate(1,1)\n",
        "print(p1)"
      ],
      "execution_count": null,
      "outputs": [
        {
          "output_type": "stream",
          "text": [
            "Las cordenadas de p son x:2 , y:2\n"
          ],
          "name": "stdout"
        }
      ]
    },
    {
      "cell_type": "code",
      "metadata": {
        "colab": {
          "base_uri": "https://localhost:8080/"
        },
        "id": "mLa3STRk2xDD",
        "outputId": "d7e34d20-350a-46e9-8be9-be5c9a8cca68"
      },
      "source": [
        "import keras\n",
        "from keras.datasets import fashion_mnist\n",
        "from tensorflow import keras\n",
        "\n",
        "\n",
        "fashion_mnist = keras.datasets.fashion_mnist\n",
        "(X_train_full, y_train_full), (X_test, y_test) = fashion_mnist.load_data()\n",
        "\n",
        "X_valid, X_train = X_train_full[:5000] / 255., X_train_full[5000:] / 255.\n",
        "y_valid, y_train = y_train_full[:5000], y_train_full[5000:]\n",
        "X_test = X_test / 255.\n",
        "\n",
        "class_names = [\"T-shirt/top\", \"Trouser\", \"Pullover\", \"Dress\", \"Coat\",\n",
        "               \"Sandal\", \"Shirt\", \"Sneaker\", \"Bag\", \"Ankle boot\"]\n",
        "\n",
        "keras.backend.clear_session()\n",
        "\n",
        "\n",
        "model = keras.models.Sequential();\n",
        "\n",
        "model.add(keras.layers.Flatten(input_shape=[28, 28])); \n",
        "model.add(keras.layers.Dense(300, activation=\"relu\"));\n",
        "model.add(keras.layers.Dense(100, activation=\"relu\"));\n",
        "model.add(keras.layers.Dense(10, activation=\"softmax\"));\n",
        "\n",
        "model.compile(loss='sparse_categorical_crossentropy',\n",
        "              optimizer='sgd', \n",
        "              metrics=[\"accuracy\"]) \n",
        "\n",
        "history =  model.fit(X_train, y_train, epochs=20, validation_data=(X_valid, y_valid))\n",
        "\n"
      ],
      "execution_count": null,
      "outputs": [
        {
          "output_type": "stream",
          "text": [
            "Downloading data from https://storage.googleapis.com/tensorflow/tf-keras-datasets/train-labels-idx1-ubyte.gz\n",
            "32768/29515 [=================================] - 0s 0us/step\n",
            "Downloading data from https://storage.googleapis.com/tensorflow/tf-keras-datasets/train-images-idx3-ubyte.gz\n",
            "26427392/26421880 [==============================] - 0s 0us/step\n",
            "Downloading data from https://storage.googleapis.com/tensorflow/tf-keras-datasets/t10k-labels-idx1-ubyte.gz\n",
            "8192/5148 [===============================================] - 0s 0us/step\n",
            "Downloading data from https://storage.googleapis.com/tensorflow/tf-keras-datasets/t10k-images-idx3-ubyte.gz\n",
            "4423680/4422102 [==============================] - 0s 0us/step\n",
            "Epoch 1/20\n",
            "1719/1719 [==============================] - 5s 3ms/step - loss: 0.7015 - accuracy: 0.7680 - val_loss: 0.5022 - val_accuracy: 0.8322\n",
            "Epoch 2/20\n",
            "1719/1719 [==============================] - 4s 3ms/step - loss: 0.4830 - accuracy: 0.8313 - val_loss: 0.4607 - val_accuracy: 0.8338\n",
            "Epoch 3/20\n",
            "1719/1719 [==============================] - 4s 3ms/step - loss: 0.4395 - accuracy: 0.8456 - val_loss: 0.4177 - val_accuracy: 0.8570\n",
            "Epoch 4/20\n",
            "1719/1719 [==============================] - 4s 3ms/step - loss: 0.4126 - accuracy: 0.8547 - val_loss: 0.3917 - val_accuracy: 0.8648\n",
            "Epoch 5/20\n",
            "1719/1719 [==============================] - 4s 2ms/step - loss: 0.3930 - accuracy: 0.8612 - val_loss: 0.3790 - val_accuracy: 0.8720\n",
            "Epoch 6/20\n",
            "1719/1719 [==============================] - 4s 3ms/step - loss: 0.3777 - accuracy: 0.8657 - val_loss: 0.3749 - val_accuracy: 0.8680\n",
            "Epoch 7/20\n",
            "1719/1719 [==============================] - 4s 2ms/step - loss: 0.3628 - accuracy: 0.8719 - val_loss: 0.3638 - val_accuracy: 0.8718\n",
            "Epoch 8/20\n",
            "1719/1719 [==============================] - 4s 2ms/step - loss: 0.3532 - accuracy: 0.8755 - val_loss: 0.3511 - val_accuracy: 0.8788\n",
            "Epoch 9/20\n",
            "1719/1719 [==============================] - 4s 2ms/step - loss: 0.3415 - accuracy: 0.8780 - val_loss: 0.3490 - val_accuracy: 0.8782\n",
            "Epoch 10/20\n",
            "1719/1719 [==============================] - 4s 3ms/step - loss: 0.3321 - accuracy: 0.8819 - val_loss: 0.3640 - val_accuracy: 0.8712\n",
            "Epoch 11/20\n",
            "1719/1719 [==============================] - 4s 2ms/step - loss: 0.3232 - accuracy: 0.8851 - val_loss: 0.3413 - val_accuracy: 0.8764\n",
            "Epoch 12/20\n",
            "1719/1719 [==============================] - 4s 3ms/step - loss: 0.3162 - accuracy: 0.8866 - val_loss: 0.3324 - val_accuracy: 0.8808\n",
            "Epoch 13/20\n",
            "1719/1719 [==============================] - 4s 2ms/step - loss: 0.3088 - accuracy: 0.8887 - val_loss: 0.3356 - val_accuracy: 0.8800\n",
            "Epoch 14/20\n",
            "1719/1719 [==============================] - 4s 2ms/step - loss: 0.3025 - accuracy: 0.8913 - val_loss: 0.3265 - val_accuracy: 0.8824\n",
            "Epoch 15/20\n",
            "1719/1719 [==============================] - 4s 2ms/step - loss: 0.2950 - accuracy: 0.8943 - val_loss: 0.3227 - val_accuracy: 0.8824\n",
            "Epoch 16/20\n",
            "1719/1719 [==============================] - 4s 2ms/step - loss: 0.2898 - accuracy: 0.8961 - val_loss: 0.3232 - val_accuracy: 0.8828\n",
            "Epoch 17/20\n",
            "1719/1719 [==============================] - 4s 3ms/step - loss: 0.2847 - accuracy: 0.8978 - val_loss: 0.3311 - val_accuracy: 0.8790\n",
            "Epoch 18/20\n",
            "1719/1719 [==============================] - 4s 3ms/step - loss: 0.2793 - accuracy: 0.8995 - val_loss: 0.3232 - val_accuracy: 0.8790\n",
            "Epoch 19/20\n",
            "1719/1719 [==============================] - 4s 2ms/step - loss: 0.2734 - accuracy: 0.9017 - val_loss: 0.3258 - val_accuracy: 0.8794\n",
            "Epoch 20/20\n",
            "1719/1719 [==============================] - 4s 3ms/step - loss: 0.2683 - accuracy: 0.9019 - val_loss: 0.3075 - val_accuracy: 0.8880\n"
          ],
          "name": "stdout"
        }
      ]
    },
    {
      "cell_type": "code",
      "metadata": {
        "colab": {
          "base_uri": "https://localhost:8080/",
          "height": 35
        },
        "id": "ro13VKUI5e6w",
        "outputId": "a78d0faf-e326-4fa7-8ffe-625f59fc6407"
      },
      "source": [
        "#\n",
        "import cv2\n",
        "import numpy as np\n",
        "\n",
        "img = cv2.imread(\"/content/camisa.png\",cv2.IMREAD_GRAYSCALE)\n",
        "\n",
        "img=cv2.resize(img, (28,28))\n",
        "img = img.reshape((1,28,28))\n",
        "\n",
        "y_pred = np.argmax(model.predict(img), axis=-1)\n",
        "class_names[y_pred[0]]"
      ],
      "execution_count": null,
      "outputs": [
        {
          "output_type": "execute_result",
          "data": {
            "application/vnd.google.colaboratory.intrinsic+json": {
              "type": "string"
            },
            "text/plain": [
              "'Shirt'"
            ]
          },
          "metadata": {
            "tags": []
          },
          "execution_count": 5
        }
      ]
    },
    {
      "cell_type": "markdown",
      "metadata": {
        "id": "1PQRK-5YYfi7"
      },
      "source": [
        "**Ejercicios guia 2**"
      ]
    },
    {
      "cell_type": "code",
      "metadata": {
        "id": "erFLncQLYhwc"
      },
      "source": [
        "#Implementar un modelo de red neuronal usando Keras para predecir los sobrevivientes del titanic.\n",
        "# El modelo debe tener dos capas ocultas densas con 16 neuronas cada una y funcion de activacion relu. como optimizador usar descenso del \n",
        "#gradiente estocástico como función de pérdida usar binary_crossentropy y como métrica usar accuracy. "
      ],
      "execution_count": null,
      "outputs": []
    },
    {
      "cell_type": "code",
      "metadata": {
        "colab": {
          "base_uri": "https://localhost:8080/",
          "height": 884
        },
        "id": "KS-ohOIvZrO5",
        "outputId": "11478e56-4ee0-469a-d36e-a80f7658eded"
      },
      "source": [
        "import numpy as np\n",
        "import pandas as pd\n",
        "import matplotlib.pyplot as plt\n",
        "import seaborn as sns; sns.set()\n",
        "from sklearn.model_selection import train_test_split\n",
        "from tensorflow import keras\n",
        "\n",
        "\n",
        "data = pd.read_csv('https://raw.githubusercontent.com/diplomado-bigdata-machinelearning-udea/Curso2/master/Datasets/titanic.csv')\n",
        "data=data[[\"Survived\",\"Pclass\",\"Sex\", \"Age\", \"SibSp\", \"Fare\", \"Embarked\"]]\n",
        "\n",
        "data=data.dropna()\n",
        "\n",
        "data=pd.get_dummies(data)\n",
        "\n",
        "x_data= data.drop(\"Survived\",axis=1)\n",
        "y_data= data[\"Survived\"]\n",
        "\n",
        "\n",
        "x_train, x_test, y_train, y_test = train_test_split(x_data, y_data ,test_size = 0.2, random_state=0)\n",
        "keras.backend.clear_session()\n",
        "\n",
        "model = keras.models.Sequential()\n",
        "model.add(keras.layers.Dense(16,activation='relu', input_shape=(9,) ))\n",
        "model.add(keras.layers.Dense(16,activation='relu'))\n",
        "model.add(keras.layers.Dense(1, activation='sigmoid'))\n",
        "\n",
        "model.compile(optimizer='sgd', loss='binary_crossentropy', metrics=['accuracy'])\n",
        "\n",
        "y_train=np.array(y_train)\n",
        "y_test=np.array(y_test)\n",
        "\n",
        "\n",
        "history=model.fit(x_train,y_train, epochs=15, validation_split=0.2)\n",
        "x_data.head(10)\n"
      ],
      "execution_count": null,
      "outputs": [
        {
          "output_type": "stream",
          "text": [
            "Epoch 1/15\n",
            "15/15 [==============================] - 1s 14ms/step - loss: 1.3289 - accuracy: 0.6154 - val_loss: 1.2271 - val_accuracy: 0.6491\n",
            "Epoch 2/15\n",
            "15/15 [==============================] - 0s 4ms/step - loss: 0.7657 - accuracy: 0.6615 - val_loss: 0.8302 - val_accuracy: 0.5351\n",
            "Epoch 3/15\n",
            "15/15 [==============================] - 0s 3ms/step - loss: 0.7378 - accuracy: 0.6132 - val_loss: 0.6443 - val_accuracy: 0.6842\n",
            "Epoch 4/15\n",
            "15/15 [==============================] - 0s 3ms/step - loss: 0.6659 - accuracy: 0.6527 - val_loss: 0.6672 - val_accuracy: 0.6404\n",
            "Epoch 5/15\n",
            "15/15 [==============================] - 0s 4ms/step - loss: 0.6424 - accuracy: 0.6549 - val_loss: 0.5782 - val_accuracy: 0.7281\n",
            "Epoch 6/15\n",
            "15/15 [==============================] - 0s 4ms/step - loss: 0.6364 - accuracy: 0.6813 - val_loss: 0.8066 - val_accuracy: 0.6754\n",
            "Epoch 7/15\n",
            "15/15 [==============================] - 0s 3ms/step - loss: 0.6568 - accuracy: 0.6813 - val_loss: 0.6989 - val_accuracy: 0.6491\n",
            "Epoch 8/15\n",
            "15/15 [==============================] - 0s 4ms/step - loss: 0.6667 - accuracy: 0.6593 - val_loss: 0.6008 - val_accuracy: 0.7281\n",
            "Epoch 9/15\n",
            "15/15 [==============================] - 0s 4ms/step - loss: 0.6336 - accuracy: 0.6791 - val_loss: 0.6047 - val_accuracy: 0.7281\n",
            "Epoch 10/15\n",
            "15/15 [==============================] - 0s 3ms/step - loss: 0.6193 - accuracy: 0.6923 - val_loss: 0.5986 - val_accuracy: 0.7368\n",
            "Epoch 11/15\n",
            "15/15 [==============================] - 0s 3ms/step - loss: 0.6259 - accuracy: 0.6857 - val_loss: 0.5863 - val_accuracy: 0.7456\n",
            "Epoch 12/15\n",
            "15/15 [==============================] - 0s 3ms/step - loss: 0.6157 - accuracy: 0.6945 - val_loss: 0.5854 - val_accuracy: 0.7018\n",
            "Epoch 13/15\n",
            "15/15 [==============================] - 0s 3ms/step - loss: 0.6120 - accuracy: 0.6989 - val_loss: 0.5838 - val_accuracy: 0.7368\n",
            "Epoch 14/15\n",
            "15/15 [==============================] - 0s 3ms/step - loss: 0.6096 - accuracy: 0.6857 - val_loss: 0.6389 - val_accuracy: 0.6754\n",
            "Epoch 15/15\n",
            "15/15 [==============================] - 0s 4ms/step - loss: 0.6362 - accuracy: 0.6659 - val_loss: 0.6095 - val_accuracy: 0.7193\n"
          ],
          "name": "stdout"
        },
        {
          "output_type": "execute_result",
          "data": {
            "text/html": [
              "<div>\n",
              "<style scoped>\n",
              "    .dataframe tbody tr th:only-of-type {\n",
              "        vertical-align: middle;\n",
              "    }\n",
              "\n",
              "    .dataframe tbody tr th {\n",
              "        vertical-align: top;\n",
              "    }\n",
              "\n",
              "    .dataframe thead th {\n",
              "        text-align: right;\n",
              "    }\n",
              "</style>\n",
              "<table border=\"1\" class=\"dataframe\">\n",
              "  <thead>\n",
              "    <tr style=\"text-align: right;\">\n",
              "      <th></th>\n",
              "      <th>Pclass</th>\n",
              "      <th>Age</th>\n",
              "      <th>SibSp</th>\n",
              "      <th>Fare</th>\n",
              "      <th>Sex_female</th>\n",
              "      <th>Sex_male</th>\n",
              "      <th>Embarked_C</th>\n",
              "      <th>Embarked_Q</th>\n",
              "      <th>Embarked_S</th>\n",
              "    </tr>\n",
              "  </thead>\n",
              "  <tbody>\n",
              "    <tr>\n",
              "      <th>0</th>\n",
              "      <td>3</td>\n",
              "      <td>22.0</td>\n",
              "      <td>1</td>\n",
              "      <td>7.2500</td>\n",
              "      <td>0</td>\n",
              "      <td>1</td>\n",
              "      <td>0</td>\n",
              "      <td>0</td>\n",
              "      <td>1</td>\n",
              "    </tr>\n",
              "    <tr>\n",
              "      <th>1</th>\n",
              "      <td>1</td>\n",
              "      <td>38.0</td>\n",
              "      <td>1</td>\n",
              "      <td>71.2833</td>\n",
              "      <td>1</td>\n",
              "      <td>0</td>\n",
              "      <td>1</td>\n",
              "      <td>0</td>\n",
              "      <td>0</td>\n",
              "    </tr>\n",
              "    <tr>\n",
              "      <th>2</th>\n",
              "      <td>3</td>\n",
              "      <td>26.0</td>\n",
              "      <td>0</td>\n",
              "      <td>7.9250</td>\n",
              "      <td>1</td>\n",
              "      <td>0</td>\n",
              "      <td>0</td>\n",
              "      <td>0</td>\n",
              "      <td>1</td>\n",
              "    </tr>\n",
              "    <tr>\n",
              "      <th>3</th>\n",
              "      <td>1</td>\n",
              "      <td>35.0</td>\n",
              "      <td>1</td>\n",
              "      <td>53.1000</td>\n",
              "      <td>1</td>\n",
              "      <td>0</td>\n",
              "      <td>0</td>\n",
              "      <td>0</td>\n",
              "      <td>1</td>\n",
              "    </tr>\n",
              "    <tr>\n",
              "      <th>4</th>\n",
              "      <td>3</td>\n",
              "      <td>35.0</td>\n",
              "      <td>0</td>\n",
              "      <td>8.0500</td>\n",
              "      <td>0</td>\n",
              "      <td>1</td>\n",
              "      <td>0</td>\n",
              "      <td>0</td>\n",
              "      <td>1</td>\n",
              "    </tr>\n",
              "    <tr>\n",
              "      <th>6</th>\n",
              "      <td>1</td>\n",
              "      <td>54.0</td>\n",
              "      <td>0</td>\n",
              "      <td>51.8625</td>\n",
              "      <td>0</td>\n",
              "      <td>1</td>\n",
              "      <td>0</td>\n",
              "      <td>0</td>\n",
              "      <td>1</td>\n",
              "    </tr>\n",
              "    <tr>\n",
              "      <th>7</th>\n",
              "      <td>3</td>\n",
              "      <td>2.0</td>\n",
              "      <td>3</td>\n",
              "      <td>21.0750</td>\n",
              "      <td>0</td>\n",
              "      <td>1</td>\n",
              "      <td>0</td>\n",
              "      <td>0</td>\n",
              "      <td>1</td>\n",
              "    </tr>\n",
              "    <tr>\n",
              "      <th>8</th>\n",
              "      <td>3</td>\n",
              "      <td>27.0</td>\n",
              "      <td>0</td>\n",
              "      <td>11.1333</td>\n",
              "      <td>1</td>\n",
              "      <td>0</td>\n",
              "      <td>0</td>\n",
              "      <td>0</td>\n",
              "      <td>1</td>\n",
              "    </tr>\n",
              "    <tr>\n",
              "      <th>9</th>\n",
              "      <td>2</td>\n",
              "      <td>14.0</td>\n",
              "      <td>1</td>\n",
              "      <td>30.0708</td>\n",
              "      <td>1</td>\n",
              "      <td>0</td>\n",
              "      <td>1</td>\n",
              "      <td>0</td>\n",
              "      <td>0</td>\n",
              "    </tr>\n",
              "    <tr>\n",
              "      <th>10</th>\n",
              "      <td>3</td>\n",
              "      <td>4.0</td>\n",
              "      <td>1</td>\n",
              "      <td>16.7000</td>\n",
              "      <td>1</td>\n",
              "      <td>0</td>\n",
              "      <td>0</td>\n",
              "      <td>0</td>\n",
              "      <td>1</td>\n",
              "    </tr>\n",
              "  </tbody>\n",
              "</table>\n",
              "</div>"
            ],
            "text/plain": [
              "    Pclass   Age  SibSp     Fare  ...  Sex_male  Embarked_C  Embarked_Q  Embarked_S\n",
              "0        3  22.0      1   7.2500  ...         1           0           0           1\n",
              "1        1  38.0      1  71.2833  ...         0           1           0           0\n",
              "2        3  26.0      0   7.9250  ...         0           0           0           1\n",
              "3        1  35.0      1  53.1000  ...         0           0           0           1\n",
              "4        3  35.0      0   8.0500  ...         1           0           0           1\n",
              "6        1  54.0      0  51.8625  ...         1           0           0           1\n",
              "7        3   2.0      3  21.0750  ...         1           0           0           1\n",
              "8        3  27.0      0  11.1333  ...         0           0           0           1\n",
              "9        2  14.0      1  30.0708  ...         0           1           0           0\n",
              "10       3   4.0      1  16.7000  ...         0           0           0           1\n",
              "\n",
              "[10 rows x 9 columns]"
            ]
          },
          "metadata": {
            "tags": []
          },
          "execution_count": 7
        }
      ]
    },
    {
      "cell_type": "code",
      "metadata": {
        "colab": {
          "base_uri": "https://localhost:8080/",
          "height": 285
        },
        "id": "ORMDqMDndMwH",
        "outputId": "2c5abb7a-5137-4483-8bd2-74a815c24222"
      },
      "source": [
        "import matplotlib.pyplot as plt\n",
        "\n",
        "plt.plot(history.history['accuracy'], label='train')\n",
        "plt.plot(history.history['val_accuracy'], label='test')\n",
        "plt.legend()\n"
      ],
      "execution_count": null,
      "outputs": [
        {
          "output_type": "execute_result",
          "data": {
            "text/plain": [
              "<matplotlib.legend.Legend at 0x7f2719537850>"
            ]
          },
          "metadata": {
            "tags": []
          },
          "execution_count": 8
        },
        {
          "output_type": "display_data",
          "data": {
            "image/png": "[encoded data removed]",
            "text/plain": [
              "<Figure size 432x288 with 1 Axes>"
            ]
          },
          "metadata": {
            "tags": []
          }
        }
      ]
    },
    {
      "cell_type": "markdown",
      "metadata": {
        "id": "DXZyJj33lTvK"
      },
      "source": [
        "**Ejercicios guia 3**"
      ]
    },
    {
      "cell_type": "code",
      "metadata": {
        "colab": {
          "base_uri": "https://localhost:8080/"
        },
        "id": "1l1gzgfblXCq",
        "outputId": "b7228697-fee9-4d60-f687-6109e454fcb1"
      },
      "source": [
        "from sklearn.model_selection import train_test_split\n",
        "from sklearn.datasets import load_iris\n",
        "\n",
        "data=load_iris()\n",
        "X_train,X_test,y_train,y_test=train_test_split(data.data,data.target,test_size=0.2)\n",
        "\n",
        "#Con ayuda del pipeline de sklearn, construir uno de forma tal qué, escale mis datos, reduzca mi \n",
        "#dimensión(dimensión 2) y aplique un clasificador de arbol de decisión (DecisionTreeClassifier) \n",
        "#al iris data set, donde a este último solo le pondremos como parámetro el random_state=42. Entrenarlo y evaluarlo.\n",
        "\n",
        "from sklearn.tree import DecisionTreeClassifier\n",
        "from sklearn.pipeline import Pipeline\n",
        "from sklearn.decomposition import PCA\n",
        "\n",
        "\n",
        "model=Pipeline([('pca',PCA(n_components=2)),('des_tree',DecisionTreeClassifier(random_state=42))])\n",
        "\n",
        "model.fit(X_train,y_train)"
      ],
      "execution_count": null,
      "outputs": [
        {
          "output_type": "execute_result",
          "data": {
            "text/plain": [
              "Pipeline(memory=None,\n",
              "         steps=[('pca',\n",
              "                 PCA(copy=True, iterated_power='auto', n_components=2,\n",
              "                     random_state=None, svd_solver='auto', tol=0.0,\n",
              "                     whiten=False)),\n",
              "                ('des_tree',\n",
              "                 DecisionTreeClassifier(ccp_alpha=0.0, class_weight=None,\n",
              "                                        criterion='gini', max_depth=None,\n",
              "                                        max_features=None, max_leaf_nodes=None,\n",
              "                                        min_impurity_decrease=0.0,\n",
              "                                        min_impurity_split=None,\n",
              "                                        min_samples_leaf=1, min_samples_split=2,\n",
              "                                        min_weight_fraction_leaf=0.0,\n",
              "                                        presort='deprecated', random_state=42,\n",
              "                                        splitter='best'))],\n",
              "         verbose=False)"
            ]
          },
          "metadata": {
            "tags": []
          },
          "execution_count": 9
        }
      ]
    },
    {
      "cell_type": "code",
      "metadata": {
        "colab": {
          "base_uri": "https://localhost:8080/"
        },
        "id": "t5D6ikrnoB8L",
        "outputId": "bdb29abe-01ac-4b78-a8dd-014026143933"
      },
      "source": [
        "#Haga una red neuronal de 2 capas (2 neuronas ocultas y 1 de salida) usando únicamente numpy para ajustar el XOR \n",
        "#usando la función escalera como función de activación. Tip: XOR=AND(OR,NAND)\n",
        "\n",
        "import numpy as np\n",
        "\n",
        "class neurona:\n",
        "\n",
        "  def __init__(self,numeroPesos):\n",
        "    #los pesos se generan aleatoriamente y no se pueden cambiar\n",
        "    self.pesos=np.random.rand(numeroPesos)\n",
        "\n",
        "  def process(self,x):\n",
        "    \n",
        "    producto=np.dot(self.pesos,x)\n",
        "   #función escalón\n",
        "    if producto<0:\n",
        "      return 0\n",
        "    return 1\n",
        "\n",
        "class capa:\n",
        "  def __init__(self,numeroNeuronas, conneccionesPorNeurona):\n",
        "    self.neuronas = [neurona(conneccionesPorNeurona) for i in range(numeroNeuronas) ]\n",
        "\n",
        "  def process(self,x):\n",
        "    #y guardará las salidas de las neuronas\n",
        "    y=[]\n",
        "    for neurona in self.neuronas:\n",
        "      y.append(neurona.process(x))\n",
        "    return y\n",
        "\n",
        "\n",
        "class red:\n",
        "  def __init__(self,capas):\n",
        "    self.capas=capas\n",
        "\n",
        "  def predict_classes(self,x):\n",
        "\n",
        "    for capa in self.capas:\n",
        "    #la salida de cada capa es analizada por la siguiente\n",
        "      x=capa.process(x)\n",
        "    return x\n",
        "\n",
        "capa1= capa(2,2)#dos neuronas con dos conecciones (las entradas de la red deberan ser vectores x=[x1,x2])\n",
        "capa2 = capa(1,2)#una neurona con dos conecciones (recibe las salidas de las dos neuronas anteriores)\n",
        "\n",
        "red1 = red([capa1,capa2])#2 capas la primera con dos neuronas y la segunda con una\n",
        "\n",
        "red1.predict_classes([0.344,1.234])"
      ],
      "execution_count": null,
      "outputs": [
        {
          "output_type": "execute_result",
          "data": {
            "text/plain": [
              "[1]"
            ]
          },
          "metadata": {
            "tags": []
          },
          "execution_count": 10
        }
      ]
    },
    {
      "cell_type": "markdown",
      "metadata": {
        "id": "9QgyjBZI0N0r"
      },
      "source": [
        "**Ejercicios guia 4**"
      ]
    },
    {
      "cell_type": "code",
      "metadata": {
        "colab": {
          "base_uri": "https://localhost:8080/"
        },
        "id": "FzNJLzO70RcI",
        "outputId": "6a86cfd1-49ce-41af-fcf9-8f37151ccffa"
      },
      "source": [
        "#Entrene una red neuronal en keras para el dataset de Iris con 3 \n",
        "#capas ocultas de 4 neuronas cada una con funciones de activación sigmoide. Use gradiente estocástico con gradient clipping\n",
        "\n",
        "%tensorflow_version 1.x\n",
        "from sklearn.datasets import load_iris\n",
        "from keras.models import Sequential\n",
        "from keras.layers import Dense\n",
        "from keras.optimizers import SGD\n",
        "from tensorflow.keras.utils import to_categorical\n",
        "\n",
        "data=load_iris()\n",
        "x,y=data.data,data.target\n",
        "y=to_categorical(y)\n",
        "\n",
        "keras.backend.clear_session()\n",
        "\n",
        "modelo=Sequential()\n",
        "modelo.add(Dense(4,activation='sigmoid',input_shape=(4,)))\n",
        "modelo.add(Dense(4,activation='sigmoid'))\n",
        "modelo.add(Dense(4,activation='sigmoid'))\n",
        "modelo.add(Dense(3,activation='softmax'))\n",
        "\n",
        "optim=SGD(clipnorm=1)\n",
        "modelo.compile(optim,loss='categorical_crossentropy',metrics=['accuracy'] )\n",
        "modelo.summary()\n",
        "\n",
        "modelo.fit(x=x,y=y, batch_size=10,epochs=20)"
      ],
      "execution_count": null,
      "outputs": [
        {
          "output_type": "stream",
          "text": [
            "TensorFlow is already loaded. Please restart the runtime to change versions.\n",
            "Model: \"sequential\"\n",
            "_________________________________________________________________\n",
            "Layer (type)                 Output Shape              Param #   \n",
            "=================================================================\n",
            "dense (Dense)                (None, 4)                 20        \n",
            "_________________________________________________________________\n",
            "dense_1 (Dense)              (None, 4)                 20        \n",
            "_________________________________________________________________\n",
            "dense_2 (Dense)              (None, 4)                 20        \n",
            "_________________________________________________________________\n",
            "dense_3 (Dense)              (None, 3)                 15        \n",
            "=================================================================\n",
            "Total params: 75\n",
            "Trainable params: 75\n",
            "Non-trainable params: 0\n",
            "_________________________________________________________________\n",
            "Epoch 1/20\n",
            "15/15 [==============================] - 12s 2ms/step - loss: 1.1361 - accuracy: 0.2824\n",
            "Epoch 2/20\n",
            "15/15 [==============================] - 0s 1ms/step - loss: 1.1127 - accuracy: 0.3356\n",
            "Epoch 3/20\n",
            "15/15 [==============================] - 0s 2ms/step - loss: 1.1168 - accuracy: 0.3127\n",
            "Epoch 4/20\n",
            "15/15 [==============================] - 0s 2ms/step - loss: 1.1213 - accuracy: 0.2905\n",
            "Epoch 5/20\n",
            "15/15 [==============================] - 0s 2ms/step - loss: 1.1057 - accuracy: 0.3378\n",
            "Epoch 6/20\n",
            "15/15 [==============================] - 0s 2ms/step - loss: 1.0992 - accuracy: 0.3525\n",
            "Epoch 7/20\n",
            "15/15 [==============================] - 0s 2ms/step - loss: 1.1049 - accuracy: 0.3359\n",
            "Epoch 8/20\n",
            "15/15 [==============================] - 0s 2ms/step - loss: 1.1022 - accuracy: 0.3363\n",
            "Epoch 9/20\n",
            "15/15 [==============================] - 0s 2ms/step - loss: 1.0956 - accuracy: 0.3764\n",
            "Epoch 10/20\n",
            "15/15 [==============================] - 0s 2ms/step - loss: 1.1082 - accuracy: 0.2901\n",
            "Epoch 11/20\n",
            "15/15 [==============================] - 0s 2ms/step - loss: 1.0975 - accuracy: 0.3642\n",
            "Epoch 12/20\n",
            "15/15 [==============================] - 0s 2ms/step - loss: 1.0995 - accuracy: 0.3455\n",
            "Epoch 13/20\n",
            "15/15 [==============================] - 0s 2ms/step - loss: 1.0985 - accuracy: 0.3613\n",
            "Epoch 14/20\n",
            "15/15 [==============================] - 0s 2ms/step - loss: 1.0970 - accuracy: 0.3791\n",
            "Epoch 15/20\n",
            "15/15 [==============================] - 0s 2ms/step - loss: 1.0983 - accuracy: 0.3527\n",
            "Epoch 16/20\n",
            "15/15 [==============================] - 0s 1ms/step - loss: 1.0998 - accuracy: 0.3410\n",
            "Epoch 17/20\n",
            "15/15 [==============================] - 0s 2ms/step - loss: 1.0974 - accuracy: 0.3744\n",
            "Epoch 18/20\n",
            "15/15 [==============================] - 0s 1ms/step - loss: 1.0988 - accuracy: 0.3592\n",
            "Epoch 19/20\n",
            "15/15 [==============================] - 0s 1ms/step - loss: 1.1012 - accuracy: 0.3244\n",
            "Epoch 20/20\n",
            "15/15 [==============================] - 0s 1ms/step - loss: 1.0977 - accuracy: 0.3858\n"
          ],
          "name": "stdout"
        },
        {
          "output_type": "execute_result",
          "data": {
            "text/plain": [
              "<keras.callbacks.History at 0x7f271267af50>"
            ]
          },
          "metadata": {
            "tags": []
          },
          "execution_count": 11
        }
      ]
    },
    {
      "cell_type": "code",
      "metadata": {
        "colab": {
          "base_uri": "https://localhost:8080/"
        },
        "id": "qmOth2g89ruw",
        "outputId": "2dd4556e-2e1d-46f1-c032-3848521cf853"
      },
      "source": [
        "# Entrene una red neuronal para el dataset iris con 3 capas ocultas de 4 neuronas cada una con función \n",
        "#de activación ReLU inicializadando los pesos con glorot_normal y los bias en cero. Aplicar regularización L2 \n",
        "#de los pesos y L1 de los bias. Adicionalmente, aplique Batch Normalization en la segunda capa oculta.\n",
        "# Entrene la red usando el optimizador Adam con Gradient Clipping y usando un 20% como datos de validación. \n",
        "\n",
        "from sklearn.datasets import load_iris\n",
        "from tensorflow.keras.layers import Dense,BatchNormalization,Dropout\n",
        "\n",
        "data=load_iris()\n",
        "X,y=data.data,data.target\n",
        "X-=X.mean(axis=0)\n",
        "X/=X.std(axis=0)\n",
        "y=to_categorical(y)\n",
        "\n",
        "keras.backend.clear_session()\n",
        "\n",
        "modelo=Sequential()\n",
        "modelo.add(Dense(4,input_dim=4,activation='relu',kernel_initializer='glorot_normal',bias_initializer='zero',kernel_regularizer='l2',bias_regularizer='l1'))\n",
        "modelo.add(Dropout(0.2))\n",
        "modelo.add(Dense(4,activation='relu',kernel_initializer='glorot_normal',bias_initializer='zero',kernel_regularizer='l2',bias_regularizer='l1'))\n",
        "modelo.add(BatchNormalization())\n",
        "modelo.add(Dropout(0.2))\n",
        "modelo.add(Dense(4,activation='relu',kernel_initializer='glorot_normal',bias_initializer='zero',kernel_regularizer='l2',bias_regularizer='l1'))\n",
        "modelo.add(Dropout(0.2))\n",
        "modelo.add(Dense(3,activation='softmax',kernel_initializer='uniform',bias_initializer='zero',kernel_regularizer='l2',bias_regularizer='l1'))\n",
        "modelo.compile(optimizer='adam',loss='categorical_crossentropy',metrics=['accuracy'])\n",
        "\n",
        "history=modelo.fit(x=X,y=y,validation_split=0.2,epochs=10)\n"
      ],
      "execution_count": null,
      "outputs": [
        {
          "output_type": "stream",
          "text": [
            "Epoch 1/10\n",
            "4/4 [==============================] - 8s 179ms/step - loss: 1.0825 - accuracy: 0.4346 - val_loss: 1.1190 - val_accuracy: 0.0000e+00\n",
            "Epoch 2/10\n",
            "4/4 [==============================] - 0s 9ms/step - loss: 1.0754 - accuracy: 0.4667 - val_loss: 1.1251 - val_accuracy: 0.0000e+00\n",
            "Epoch 3/10\n",
            "4/4 [==============================] - 0s 8ms/step - loss: 1.0645 - accuracy: 0.5927 - val_loss: 1.1312 - val_accuracy: 0.0000e+00\n",
            "Epoch 4/10\n",
            "4/4 [==============================] - 0s 9ms/step - loss: 1.0555 - accuracy: 0.4756 - val_loss: 1.1373 - val_accuracy: 0.0000e+00\n",
            "Epoch 5/10\n",
            "4/4 [==============================] - 0s 9ms/step - loss: 1.0503 - accuracy: 0.5525 - val_loss: 1.1427 - val_accuracy: 0.0000e+00\n",
            "Epoch 6/10\n",
            "4/4 [==============================] - 0s 9ms/step - loss: 1.0496 - accuracy: 0.4908 - val_loss: 1.1481 - val_accuracy: 0.0000e+00\n",
            "Epoch 7/10\n",
            "4/4 [==============================] - 0s 9ms/step - loss: 1.0385 - accuracy: 0.5156 - val_loss: 1.1534 - val_accuracy: 0.0000e+00\n",
            "Epoch 8/10\n",
            "4/4 [==============================] - 0s 10ms/step - loss: 1.0394 - accuracy: 0.5065 - val_loss: 1.1580 - val_accuracy: 0.0000e+00\n",
            "Epoch 9/10\n",
            "4/4 [==============================] - 0s 10ms/step - loss: 1.0298 - accuracy: 0.4706 - val_loss: 1.1628 - val_accuracy: 0.0000e+00\n",
            "Epoch 10/10\n",
            "4/4 [==============================] - 0s 8ms/step - loss: 1.0182 - accuracy: 0.5829 - val_loss: 1.1676 - val_accuracy: 0.0000e+00\n"
          ],
          "name": "stdout"
        }
      ]
    },
    {
      "cell_type": "markdown",
      "metadata": {
        "id": "1flyVTzNAoDR"
      },
      "source": [
        "**Ejercicios guia 6**"
      ]
    },
    {
      "cell_type": "code",
      "metadata": {
        "colab": {
          "base_uri": "https://localhost:8080/"
        },
        "id": "TjnMQEnkAqRk",
        "outputId": "d8f104f2-7010-4fa8-94c4-c03d9185f6e7"
      },
      "source": [
        "#Implementar un modelo basado en alguna de las arquitecturas vistas en clases (VGG16, restnet, etc)\n",
        "#la base de datos es de libre elección\n",
        "\n",
        "#La base de datos puede ser encontrada en https://drive.google.com/drive/folders/1gM9F4bg4jZivFcKxbpOC_4hu8qGMbA7l?usp=sharing\n",
        "#La base de datos puede ser encontrada en http://www.cs.columbia.edu/CAVE/databases/SLAM_coil-20_coil-100/coil-100/coil-100.zip\n",
        "\n",
        "%tensorflow_version 2.x\n",
        "from matplotlib import pyplot as plt\n",
        "from tensorflow.keras import models,backend,layers,models\n",
        "from tensorflow.keras.optimizers import SGD\n",
        "from tensorflow.keras.applications import VGG16\n",
        "from tensorflow.keras.applications.vgg16 import preprocess_input\n",
        "from keras.callbacks import EarlyStopping\n",
        "import numpy as np\n",
        "from sklearn.model_selection import train_test_split\n",
        "from os import scandir\n",
        "from tensorflow.keras.preprocessing.image import load_img, img_to_array\n",
        "import os \n",
        "\n",
        "# la base pesa 130mb creo que es mejor cargarla en el Drive\n",
        "\n",
        "path=\"/content/drive/MyDrive/coil-100/\"\n",
        "files=[]\n",
        "i=0\n",
        "\n",
        "#Solo seleccionar 1/5 de las imagenes\n",
        "\n",
        "for arc in os.listdir(path):\n",
        "  i+=1\n",
        "  if arc[-1]==\"g\" and i%5==0:\n",
        "    files.append(arc)\n",
        "\n",
        "files.sort()\n",
        "files=files[:300]\n",
        "\n",
        "#guardado de imagenes\n",
        "\n",
        "x=[]\n",
        "y=[]\n",
        "\n",
        "for fil in files:\n",
        "  image = load_img(path+fil, target_size=(224, 224))\n",
        "  image = img_to_array(image)\n",
        "  image = image.reshape((image.shape[0], image.shape[1], image.shape[2]))\n",
        "\n",
        "  x.append(image)\n",
        "  label=fil.split(\"_\")[0]\n",
        "  label=label.split(\"j\")[1]\n",
        "  y.append( int(label) )\n",
        "\n",
        "\n",
        "xTrain, xTest, yTrain, yTest = train_test_split(x,y, test_size=0.2)\n",
        "\n",
        "xTrain= np.array(xTrain)\n",
        "yTrain=  np.array(yTrain)\n",
        "xTest= np.array(xTest)\n",
        "yTest=  np.array(yTest)\n",
        "\n",
        "backend.clear_session()\n",
        "\n",
        "conv_base = VGG16(weights='imagenet',include_top=False,input_shape=(224, 224, 3))\n",
        "\n",
        "conv_base.trainable = True\n",
        "for layer in conv_base.layers[:-8]:\n",
        "    layer.trainable = False\n",
        "\n",
        "modelo = models.Sequential()\n",
        "\n",
        "modelo.add(conv_base)\n",
        "modelo.add(layers.Flatten())\n",
        "modelo.add(layers.Dense(258, activation='relu'))\n",
        "modelo.add(layers.Dense(101, activation='softmax'))\n",
        "\n",
        "modelo.compile('adam',loss='sparse_categorical_crossentropy',metrics=['acc'])\n",
        "\n",
        "modelo.summary()"
      ],
      "execution_count": null,
      "outputs": [
        {
          "output_type": "stream",
          "text": [
            "Downloading data from https://storage.googleapis.com/tensorflow/keras-applications/vgg16/vgg16_weights_tf_dim_ordering_tf_kernels_notop.h5\n",
            "58892288/58889256 [==============================] - 1s 0us/step\n",
            "Model: \"sequential\"\n",
            "_________________________________________________________________\n",
            "Layer (type)                 Output Shape              Param #   \n",
            "=================================================================\n",
            "vgg16 (Functional)           (None, 7, 7, 512)         14714688  \n",
            "_________________________________________________________________\n",
            "flatten (Flatten)            (None, 25088)             0         \n",
            "_________________________________________________________________\n",
            "dense (Dense)                (None, 258)               6472962   \n",
            "_________________________________________________________________\n",
            "dense_1 (Dense)              (None, 101)               26159     \n",
            "=================================================================\n",
            "Total params: 21,213,809\n",
            "Trainable params: 19,478,321\n",
            "Non-trainable params: 1,735,488\n",
            "_________________________________________________________________\n"
          ],
          "name": "stdout"
        }
      ]
    },
    {
      "cell_type": "code",
      "metadata": {
        "colab": {
          "base_uri": "https://localhost:8080/"
        },
        "id": "FrP8a4QtEgoM",
        "outputId": "e9b49140-27e0-405e-ab51-2221e52089d7"
      },
      "source": [
        "#esta celda tarda más de una hora\n",
        "history=modelo.fit(xTrain,yTrain,epochs=20,validation_data=(xTest,yTest))"
      ],
      "execution_count": null,
      "outputs": [
        {
          "output_type": "stream",
          "text": [
            "Epoch 1/20\n",
            "8/8 [==============================] - 165s 21s/step - loss: 33.2096 - acc: 0.0583 - val_loss: 4.8418 - val_acc: 0.0500\n",
            "Epoch 2/20\n",
            "8/8 [==============================] - 163s 21s/step - loss: 4.8418 - acc: 0.0458 - val_loss: 4.3098 - val_acc: 0.0667\n",
            "Epoch 3/20\n",
            "8/8 [==============================] - 160s 20s/step - loss: 5.9606 - acc: 0.0250 - val_loss: 3.9638 - val_acc: 0.0000e+00\n",
            "Epoch 4/20\n",
            "8/8 [==============================] - 162s 20s/step - loss: 4.1157 - acc: 0.0750 - val_loss: 3.4701 - val_acc: 0.1333\n",
            "Epoch 5/20\n",
            "8/8 [==============================] - 163s 20s/step - loss: 3.7018 - acc: 0.1042 - val_loss: 3.5290 - val_acc: 0.0500\n",
            "Epoch 6/20\n",
            "8/8 [==============================] - 161s 20s/step - loss: 3.2864 - acc: 0.0500 - val_loss: 2.9780 - val_acc: 0.0500\n",
            "Epoch 7/20\n",
            "8/8 [==============================] - 161s 20s/step - loss: 2.8283 - acc: 0.1417 - val_loss: 2.3251 - val_acc: 0.2500\n",
            "Epoch 8/20\n",
            "8/8 [==============================] - 160s 20s/step - loss: 2.4930 - acc: 0.1667 - val_loss: 2.2375 - val_acc: 0.2833\n",
            "Epoch 9/20\n",
            "8/8 [==============================] - 161s 20s/step - loss: 2.1339 - acc: 0.2750 - val_loss: 2.1069 - val_acc: 0.3000\n",
            "Epoch 10/20\n",
            "8/8 [==============================] - 160s 20s/step - loss: 2.2289 - acc: 0.2708 - val_loss: 2.3504 - val_acc: 0.3667\n",
            "Epoch 11/20\n",
            "8/8 [==============================] - 161s 20s/step - loss: 2.1011 - acc: 0.3167 - val_loss: 2.1464 - val_acc: 0.3833\n",
            "Epoch 12/20\n",
            "8/8 [==============================] - 162s 20s/step - loss: 1.9554 - acc: 0.3167 - val_loss: 2.1234 - val_acc: 0.3167\n",
            "Epoch 13/20\n",
            "8/8 [==============================] - 162s 20s/step - loss: 1.6986 - acc: 0.3958 - val_loss: 1.7130 - val_acc: 0.5000\n",
            "Epoch 14/20\n",
            "8/8 [==============================] - 161s 20s/step - loss: 1.5313 - acc: 0.5000 - val_loss: 2.4665 - val_acc: 0.4833\n",
            "Epoch 15/20\n",
            "8/8 [==============================] - 161s 20s/step - loss: 1.6411 - acc: 0.4792 - val_loss: 1.8944 - val_acc: 0.5167\n",
            "Epoch 16/20\n",
            "8/8 [==============================] - 161s 20s/step - loss: 1.2848 - acc: 0.5458 - val_loss: 1.2250 - val_acc: 0.6000\n",
            "Epoch 17/20\n",
            "8/8 [==============================] - 161s 20s/step - loss: 1.0299 - acc: 0.6667 - val_loss: 1.0885 - val_acc: 0.6333\n",
            "Epoch 18/20\n",
            "8/8 [==============================] - 161s 20s/step - loss: 0.7889 - acc: 0.7083 - val_loss: 1.1161 - val_acc: 0.7333\n",
            "Epoch 19/20\n",
            "8/8 [==============================] - 161s 20s/step - loss: 0.7113 - acc: 0.7250 - val_loss: 1.1405 - val_acc: 0.6833\n",
            "Epoch 20/20\n",
            "8/8 [==============================] - 164s 21s/step - loss: 0.6474 - acc: 0.7708 - val_loss: 1.3435 - val_acc: 0.6667\n"
          ],
          "name": "stdout"
        }
      ]
    },
    {
      "cell_type": "markdown",
      "metadata": {
        "id": "q1vAlT2YGrl3"
      },
      "source": [
        "**Ejercicios guia 7**"
      ]
    },
    {
      "cell_type": "code",
      "metadata": {
        "colab": {
          "base_uri": "https://localhost:8080/"
        },
        "id": "cAyV5uLoGpi9",
        "outputId": "01561430-b77b-4975-821b-a0c377703371"
      },
      "source": [
        "#1.En el dataset de autos (a1): elimine los datos faltantes, convierta las variables categoricas en variables \n",
        "#dummies (a2), y separe el dataset en datos de entrenamiento y prueba.\n",
        "\n",
        "import pandas as pd\n",
        "import statistics as stat\n",
        "\n",
        "df=pd.read_csv('https://s3-api.us-geo.objectstorage.softlayer.net/cf-courses-data/CognitiveClass/DA0101EN/automobileEDA.csv')\n",
        "\n",
        "df.isna().sum()\n",
        "df[[\"stroke\"]]=df[[\"stroke\"]].fillna(stat.mode(df[[\"stroke\"]]))\n",
        "df[[\"horsepower-binned\"]]=df[[\"horsepower-binned\"]].fillna(\"Medium\")\n",
        "\n",
        "df.isna().sum()"
      ],
      "execution_count": null,
      "outputs": [
        {
          "output_type": "execute_result",
          "data": {
            "text/plain": [
              "symboling            0\n",
              "normalized-losses    0\n",
              "make                 0\n",
              "aspiration           0\n",
              "num-of-doors         0\n",
              "body-style           0\n",
              "drive-wheels         0\n",
              "engine-location      0\n",
              "wheel-base           0\n",
              "length               0\n",
              "width                0\n",
              "height               0\n",
              "curb-weight          0\n",
              "engine-type          0\n",
              "num-of-cylinders     0\n",
              "engine-size          0\n",
              "fuel-system          0\n",
              "bore                 0\n",
              "stroke               0\n",
              "compression-ratio    0\n",
              "horsepower           0\n",
              "peak-rpm             0\n",
              "city-mpg             0\n",
              "highway-mpg          0\n",
              "price                0\n",
              "city-L/100km         0\n",
              "horsepower-binned    0\n",
              "diesel               0\n",
              "gas                  0\n",
              "dtype: int64"
            ]
          },
          "metadata": {
            "tags": []
          },
          "execution_count": 15
        }
      ]
    },
    {
      "cell_type": "code",
      "metadata": {
        "id": "_CLUfdMyG7je"
      },
      "source": [
        "#2.Use dos ciclos 'for' para recorrer α en la lista [0.01,0.1,1,10,100,1000] y l1_ratio en [0.1,0.3,0.6,0.9,0.99,0.999], entrenando un modelo\n",
        "# ElasticNet para las combinaciones de éstos y evaluandolo con RMSE. Guarde el valor de cada RMSE en un arreglo\n",
        "\n",
        "df.loc[:,df.dtypes==\"object\"]=pd.get_dummies(df.loc[:,df.dtypes==\"object\"])\n",
        "\n",
        "#2\n",
        "from sklearn.linear_model import ElasticNet\n",
        "from sklearn.model_selection import train_test_split\n",
        "\n",
        "\n",
        "x,y = (df[[\"horsepower\"]],df[[\"price\"]])\n",
        "\n",
        "XTrain, XTest, yTrain, yTest = train_test_split(x,y,test_size=0.2,random_state=3)"
      ],
      "execution_count": null,
      "outputs": []
    },
    {
      "cell_type": "code",
      "metadata": {
        "colab": {
          "base_uri": "https://localhost:8080/",
          "height": 268
        },
        "id": "Ghae55DbHCZH",
        "outputId": "b901c39f-0e24-45ac-bdc3-8098001bbeba"
      },
      "source": [
        "#3.Haga un mapa de calor (a3) con los valores de α y l1_ratio del punto anterior y los valores de RMSE.\n",
        "\n",
        "import seaborn as sb\n",
        "import matplotlib.pyplot as plt\n",
        "from sklearn import metrics\n",
        "\n",
        "alpha=[0.01,0.1,1,10,100,1000]\n",
        "l1_ratio = [0.1,0.3,0.6,0.9,0.99,0.999]\n",
        "\n",
        "rms=[]\n",
        "\n",
        "for a in alpha:\n",
        "  rms.append([])\n",
        "  for l in l1_ratio:\n",
        "    elastic = ElasticNet(alpha=a,l1_ratio=l,normalize=True)\n",
        "    elastic.fit(XTrain,yTrain)\n",
        "    yPred = elastic.predict(XTest)\n",
        "    rms[-1].append(np.sqrt(metrics.mean_squared_error(yTest, yPred)))\n",
        "\n",
        "heat_map = sb.heatmap(rms)"
      ],
      "execution_count": null,
      "outputs": [
        {
          "output_type": "display_data",
          "data": {
            "image/png": "[encoded data removed]",
            "text/plain": [
              "<Figure size 432x288 with 2 Axes>"
            ]
          },
          "metadata": {
            "tags": []
          }
        }
      ]
    },
    {
      "cell_type": "markdown",
      "metadata": {
        "id": "l67FYejVH58Z"
      },
      "source": [
        "**Ejercicios guia 8** (El ejercicio de implementar yolo3 para el reconocimiento de animales fue enviado hace un par de semanas)"
      ]
    },
    {
      "cell_type": "markdown",
      "metadata": {
        "id": "v-dD6OTEJZFv"
      },
      "source": [
        "**Ejercicios guia 9** (En este cuaderno se hizo una exposición, no encontré ejercicios)"
      ]
    },
    {
      "cell_type": "markdown",
      "metadata": {
        "id": "k1OO0qIobylb"
      },
      "source": [
        "**Ejercicios guia 10**"
      ]
    },
    {
      "cell_type": "code",
      "metadata": {
        "id": "uiYhLWQIb02G"
      },
      "source": [
        "import numpy as np\n",
        "import matplotlib.pyplot as plt\n",
        "import pandas as pd\n",
        "from tensorflow import keras\n",
        "from sklearn.model_selection import train_test_split\n",
        "from keras.preprocessing.text import Tokenizer\n",
        "from keras.preprocessing.sequence import pad_sequences\n",
        "import seaborn as sns\n",
        "\n",
        "path=\"/content/IMDB Dataset.csv\"\n",
        "df = pd.read_csv(path)\n",
        "\n",
        "y=df[\"sentiment\"].map({'positive':1, 'negative':0 })\n",
        "x=df[\"review\"]\n",
        "\n",
        "\n",
        "x_train, x_test, y_train, y_test = train_test_split(x,y, test_size = 0.2)\n",
        "\n",
        "tokenizer = Tokenizer(num_words=10000)\n",
        "tokenizer.fit_on_texts(x)\n",
        "\n",
        "x_train = tokenizer.texts_to_sequences(x_train)\n",
        "x_test = tokenizer.texts_to_sequences(x_test)\n",
        "\n",
        "x_train = pad_sequences(x_train, maxlen=500)\n",
        "x_test = pad_sequences(x_test, maxlen=500)\n",
        "\n",
        "model = keras.models.Sequential()\n",
        "model.add(keras.layers.Embedding(input_dim=10000 , output_dim=32, input_length=500))\n",
        "model.add(keras.layers.LSTM(20))\n",
        "model.add(keras.layers.Dense(1, activation='sigmoid'))\n",
        "\n",
        "model.compile(loss='binary_crossentropy', optimizer='adam', metrics=['acc'])"
      ],
      "execution_count": null,
      "outputs": []
    },
    {
      "cell_type": "code",
      "metadata": {
        "colab": {
          "base_uri": "https://localhost:8080/"
        },
        "id": "2QWWQpDMeP91",
        "outputId": "9f722cbe-5ee6-4278-a0de-4e297c641102"
      },
      "source": [
        "model.fit(x_train,y_train, epochs=10, batch_size=256, validation_data=(x_test,y_test))"
      ],
      "execution_count": null,
      "outputs": [
        {
          "output_type": "stream",
          "text": [
            "Epoch 1/10\n",
            "157/157 [==============================] - 59s 363ms/step - loss: 0.4741 - acc: 0.7750 - val_loss: 0.3192 - val_acc: 0.8686\n",
            "Epoch 2/10\n",
            "157/157 [==============================] - 57s 361ms/step - loss: 0.2475 - acc: 0.9055 - val_loss: 0.2772 - val_acc: 0.8851\n",
            "Epoch 3/10\n",
            "157/157 [==============================] - 56s 358ms/step - loss: 0.1976 - acc: 0.9294 - val_loss: 0.2810 - val_acc: 0.8852\n",
            "Epoch 4/10\n",
            "157/157 [==============================] - 56s 359ms/step - loss: 0.1650 - acc: 0.9433 - val_loss: 0.2873 - val_acc: 0.8884\n",
            "Epoch 5/10\n",
            "157/157 [==============================] - 57s 361ms/step - loss: 0.1467 - acc: 0.9499 - val_loss: 0.2890 - val_acc: 0.8816\n",
            "Epoch 6/10\n",
            "157/157 [==============================] - 56s 359ms/step - loss: 0.1356 - acc: 0.9544 - val_loss: 0.3099 - val_acc: 0.8827\n",
            "Epoch 7/10\n",
            "157/157 [==============================] - 57s 361ms/step - loss: 0.1123 - acc: 0.9640 - val_loss: 0.3673 - val_acc: 0.8802\n",
            "Epoch 8/10\n",
            "157/157 [==============================] - 57s 362ms/step - loss: 0.0976 - acc: 0.9697 - val_loss: 0.4028 - val_acc: 0.8717\n",
            "Epoch 9/10\n",
            "157/157 [==============================] - 56s 359ms/step - loss: 0.0996 - acc: 0.9676 - val_loss: 0.3722 - val_acc: 0.8836\n",
            "Epoch 10/10\n",
            "157/157 [==============================] - 57s 361ms/step - loss: 0.0855 - acc: 0.9739 - val_loss: 0.3954 - val_acc: 0.8858\n"
          ],
          "name": "stdout"
        },
        {
          "output_type": "execute_result",
          "data": {
            "text/plain": [
              "<tensorflow.python.keras.callbacks.History at 0x7f271a415350>"
            ]
          },
          "metadata": {
            "tags": []
          },
          "execution_count": 20
        }
      ]
    }
  ]
}